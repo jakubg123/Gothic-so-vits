{
 "cells": [
  {
   "cell_type": "code",
   "execution_count": 7,
   "id": "f54de840-3f2d-4a6b-a680-1604d01e5f17",
   "metadata": {},
   "outputs": [
    {
     "data": {
      "text/plain": [
       "{'thorus': InferMetadata(speaker='Mud_original', model_path='~/dataset_raw/walesa', config_path='configs/44k/config.json', fm='harvest')}"
      ]
     },
     "execution_count": 7,
     "metadata": {},
     "output_type": "execute_result"
    }
   ],
   "source": [
    "from dataclasses import dataclass\n",
    "\n",
    "@dataclass\n",
    "class InferMetadata:\n",
    "    speaker: str\n",
    "    model_path: str\n",
    "    config_path: str\n",
    "    fm: str\n",
    "    \n",
    "test = InferMetadata(\"speaker\", \"test_model_path\", \"test_config_path\", \"test_fm\")\n",
    "\n",
    "data = {\n",
    "    \"Lares_original\": InferMetadata(\"audiobook11_zebrowski\",\"~/DATA1/logs/44k/G_609.pth\",\"~/DATA1/configs/44k/config.json\",\"harvest\")\n",
    "    \"Mordrag_original\": InferMetadata(\"audiobook16_gosztyla\",\"~/DATA1/logs/44k/G_609.pth\",\"~/DATA1/configs/44k/config.json\",\"parselmouth\")\n",
    "    \"Cavalorn_original\": InferMetadata(\"audiobook9_Lukomski\",\"~/DATA1/logs/44k/G_609.pth\",\"~/DATA1/configs/44k/config.json\",\"harvest\")\n",
    "    \"Cipher_original\": InferMetadata(\"audiobook13_corso\",\"~/DATA1/logs/44k/G_609.pth\",\"~/DATA1/configs/44k/config.json\",\"harvest\")\n",
    "    \"Graham_original\": InferMetadata(\"audiobook14_grabowski\",\"~/DATA1/logs/44k/G_609.pth\",\"~/DATA1/configs/44k/config.json\",\"harvest\")\n",
    "    \"Cronos_original\": InferMetadata(\"audiobook6_jarocinski\",\"~/DATA1/logs/44k/G_609.pth\",\"~/DATA1/configs/44k/config.json\",\"harvest\")\n",
    "    \"Saturas_original\": InferMetadata(\"fraczewski\",\"~/DATA1/logs/44k/G_609.pth\",\"~/DATA1/configs/44k/config.json\",\"harvest\")\n",
    "    \"Corristo_original\": InferMetadata(\"audiobook4_kosior\",\"~/DATA1/logs/44k/G_609.pth\",\"~/DATA1/configs/44k/config.json\",\"harvest\")\n",
    "    \"Riordian_original\": InferMetadata(\"audiobook7_pedziwiatr\",\"~/DATA1/logs/44k/G_609.pth\",\"~/DATA1/configs/44k/config.json\",\"harvest\")\n",
    "    \"Jackal_original\": InferMetadata(\"audiobook8_defoe\",\"~/DATA1/logs/44k/G_609.pth\",\"~/DATA1/configs/44k/config.json\",\"harvest\")\n",
    "    \"Joru_original\": InferMetadata(\"audiobook12_bobrowski\",\"~/DATA1/logs/44k/G_609.pth\",\"~/DATA1/configs/44k/config.json\",\"harvest\")\n",
    "    \"CorKalom_original\": InferMetadata(\"KACZYNSKI\",\"~/DATA1/logs/44k/G_609.pth\",\"~/DATA1/configs/44k/config.json\",\"harvest\")\n",
    "    \"MadCorKalom_original\": InferMetadata(\"KACZYNSKI\",\"~/DATA1/logs/44k/G_609.pth\",\"~/DATA1/configs/44k/config.json\",\"harvest\")\n",
    "    \"Dexter_original\": InferMetadata(\"ferdek\",\"~/DATA2/logs/44k/G_1071.pth\",\"~/DATA2/configs/44k/config.json\",\"harvest\")\n",
    "\n",
    "        \n",
    "    \n",
    "    \"Whistler_original\": InferMetadata(\"bosak\",\"~/DATA2/logs/44k/G_1071.pth\",\"~/DATA2/configs/44k/config.json\",\"harvest\")\n",
    "    \"Ian_original\": InferMetadata(\"duda\",\"~/DATA2/logs/44k/G_1071.pth\",\"~/DATA2/configs/44k/config.json\",\"harvest\")\n",
    "    \"CorAngar_original\": InferMetadata(\"ferdek\",\"~/DATA2/logs/44k/G_1071.pth\",\"~/DATA2/configs/44k/config.json\",\"harvest\")\n",
    "    \"Bloodwyn_original\": InferMetadata(\"pudzian\",\"~/DATA2/logs/44k/G_1071.pth\",\"~/DATA2/configs/44k/config.json\",\"harvest\")\n",
    "    \"Wolf_original\": InferMetadata(\"palikot\",\"~/DATA2/logs/44k/G_1071.pth\",\"~/DATA2/configs/44k/config.json\",\"harvest\")\n",
    "    \"Snaf_original\": InferMetadata(\"maklowicz\",\"~/DATA2/logs/44k/G_1071.pth\",\"~/DATA2/configs/44k/config.json\",\"harvest\")\n",
    "    \"Scatty_original\": InferMetadata(\"korwin\",\"~/DATA2/logs/44k/G_1071.pth\",\"~/DATA2/configs/44k/config.json\",\"harvest\")\n",
    "    \"Fletcher_original\": InferMetadata(\"ziobro\",\"~/DATA2/logs/44k/G_1071.pth\",\"~/DATA2/configs/44k/config.json\",\"harvest\")\n",
    "    \"Drax_original\": InferMetadata(\"audiobook3_paczes\",\"~/DATA2/logs/44k/G_1071.pth\",\"~/DATA2/configs/44k/config.json\",\"harvest\")\n",
    "    \"BaalIsidro_original\": InferMetadata(\"kwasniewski\",\"~/DATA2/logs/44k/G_1071.pth\",\"~/DATA2/configs/44k/config.json\",\"harvest\")\n",
    "    \"Guy_original\": InferMetadata(\"audiobook5_bajtlik\",\"~/DATA2/logs/44k/G_1071.pth\",\"~/DATA1/configs/44k/config.json\",\"harvest\")\n",
    "    \"Fingers_original\": InferMetadata(\"MORAWIECKI\",\"~/DATA2/logs/44k/G_1071.pth\",\"~/DATA2/configs/44k/config.json\",\"harvest\")\n",
    "    \"Nefarius_original\": InferMetadata(\"audiobook2\",\"~/DATA2/logs/44k/G_1071.pth\",\"~/DATA2/configs/44k/config.json\",\"harvest\")\n",
    "    \"Torrez_original\": InferMetadata(\"braun\",\"~/DATA2/logs/44k/G_1071.pth\",\"~/DATA2/configs/44k/config.json\",\"harvest\")\n",
    "    \"Jeremiah_original\": InferMetadata(\"audiobook1\",\"~/DATA2/logs/44k/G_1071.pth\",\"~/DATA2/configs/44k/config.json\",\"harvest\")\n",
    "    \"Sly_original\": InferMetadata(\"audiobook10_gorka\",\"~/DATA2/logs/44k/G_1071.pth\",\"~/DATA2/configs/44k/config.json\",\"harvest\")\n",
    "    \"BaalNetbek_original\": InferMetadata(\"zandberg\",\"~/DATA2/logs/44k/G_1071.pth\",\"~/DATA2/configs/44k/config.json\",\"harvest\")\n",
    "    \n",
    "    \n",
    "    \n",
    "    \n",
    "    \n",
    "    \"BaalLukor_original\": InferMetadata(\"macierewicz\",\"~/DATA_macierewicz/logs/44k/G_3000.pth\",\"~/DATA_macierewicz/configs/44k/config.json\",\"harvest\")\n",
    "    \"Ratford_original\": InferMetadata(\"audiobook15_bando\",\"~/DATA3_backup/logs/44k/G_1467.pth\",\"~/DATA3_backup/configs/44k/config.json\",\"harvest\")\n",
    "\n",
    "\n",
    "    \"Aleph_original\": InferMetadata(\"walesa\",\"~/DATA_walesa/logs/44k/G_4250.pth\",\"~/DATA_walesa/configs/44k/config.json\",\"harvest\")  ###### inny model i conf\n",
    "    \n",
    "    \n",
    "}\n",
    "\n",
    "data\n",
    "    "
   ]
  }
 ],
 "metadata": {
  "kernelspec": {
   "display_name": "Python 3",
   "language": "python",
   "name": "python3"
  },
  "language_info": {
   "codemirror_mode": {
    "name": "ipython",
    "version": 3
   },
   "file_extension": ".py",
   "mimetype": "text/x-python",
   "name": "python",
   "nbconvert_exporter": "python",
   "pygments_lexer": "ipython3",
   "version": "3.8.10"
  }
 },
 "nbformat": 4,
 "nbformat_minor": 5
}
